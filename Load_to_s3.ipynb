{
 "cells": [
  {
   "cell_type": "code",
   "execution_count": 1,
   "metadata": {},
   "outputs": [],
   "source": [
    "import boto3\n",
    "import awswrangler as wr\n",
    "import pandas as pd\n",
    "import csv\n",
    "import json\n",
    "import warnings \n",
    "import logging\n",
    "import tempfile\n",
    "import requests\n",
    "\n",
    "from botocore.exceptions import ClientError\n",
    "warnings.filterwarnings('ignore')\n",
    "\n",
    "import configparser\n",
    "\n",
    "config = configparser.ConfigParser()\n",
    "config.read_file(open('dwh.cfg'))\n",
    "\n",
    "\n",
    "KEY                    = config.get('AWS','KEY')\n",
    "SECRET                 = config.get('AWS','SECRET')\n",
    "REGION                 = \"us-west-2\""
   ]
  },
  {
   "cell_type": "code",
   "execution_count": 2,
   "metadata": {},
   "outputs": [
    {
     "name": "stdout",
     "output_type": "stream",
     "text": [
      "Uploaded employee_data.csv to ieshaan-bucket-latest\n"
     ]
    }
   ],
   "source": [
    "import boto3\n",
    "import os\n",
    "\n",
    "def upload_files_to_s3(bucket_name, file_paths):\n",
    "    # Create an S3 client\n",
    "    s3 = boto3.client('s3', aws_access_key_id=KEY, aws_secret_access_key=SECRET)\n",
    "\n",
    "    try:\n",
    "        for local_csv_path in file_paths:\n",
    "            # Extract the file name from the path\n",
    "            file_name = os.path.basename(local_csv_path)\n",
    "            # Upload each file to S3\n",
    "            s3.upload_file(local_csv_path, bucket_name, file_name)\n",
    "            print(f\"Uploaded {file_name} to {bucket_name}\")\n",
    "\n",
    "    except Exception as e:\n",
    "        print(f\"An error occurred: {str(e)}\")\n",
    "\n",
    "# List of local file paths to upload\n",
    "file_paths = ['employee_data.csv']  # Add the paths of your files\n",
    "\n",
    "bucket_name = \"ieshaan-bucket-latest\"\n",
    "\n",
    "upload_files_to_s3(bucket_name, file_paths)"
   ]
  }
 ],
 "metadata": {
  "kernelspec": {
   "display_name": "Python 3",
   "language": "python",
   "name": "python3"
  },
  "language_info": {
   "codemirror_mode": {
    "name": "ipython",
    "version": 3
   },
   "file_extension": ".py",
   "mimetype": "text/x-python",
   "name": "python",
   "nbconvert_exporter": "python",
   "pygments_lexer": "ipython3",
   "version": "3.9.7"
  }
 },
 "nbformat": 4,
 "nbformat_minor": 2
}
